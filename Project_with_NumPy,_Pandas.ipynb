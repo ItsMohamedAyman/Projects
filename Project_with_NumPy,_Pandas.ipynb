{
  "nbformat": 4,
  "nbformat_minor": 0,
  "metadata": {
    "colab": {
      "provenance": [],
      "collapsed_sections": [
        "1aKdeG1K63mE",
        "4k95bX1B8FSq",
        "Njg6hjtv8qa5",
        "os0VeR939h80",
        "xkqQNvJ0_H2d",
        "7YRfYeA-A6C3",
        "VA2Z6Q0oCi8-",
        "VbW7rZ3bDNLP",
        "Zsy5w4m1ETE0"
      ],
      "authorship_tag": "ABX9TyNiSdi40Ne3PzyseiT7zNGB",
      "include_colab_link": true
    },
    "kernelspec": {
      "name": "python3",
      "display_name": "Python 3"
    },
    "language_info": {
      "name": "python"
    }
  },
  "cells": [
    {
      "cell_type": "markdown",
      "metadata": {
        "id": "view-in-github",
        "colab_type": "text"
      },
      "source": [
        "<a href=\"https://colab.research.google.com/github/ItsMohamedAyman/Projects/blob/main/Project_with_NumPy%2C_Pandas.ipynb\" target=\"_parent\"><img src=\"https://colab.research.google.com/assets/colab-badge.svg\" alt=\"Open In Colab\"/></a>"
      ]
    },
    {
      "cell_type": "markdown",
      "source": [
        "# Task 1: Load the CSV File from the Internet"
      ],
      "metadata": {
        "id": "1aKdeG1K63mE"
      }
    },
    {
      "cell_type": "code",
      "execution_count": 1,
      "metadata": {
        "colab": {
          "base_uri": "https://localhost:8080/",
          "height": 825
        },
        "id": "C7Z7eCNx5_Rw",
        "outputId": "1421bd69-0949-4aa8-b66a-1c6c533f4b77"
      },
      "outputs": [
        {
          "output_type": "execute_result",
          "data": {
            "text/plain": [
              "             id                                               name   host_id  \\\n",
              "0          2539                 Clean & quiet apt home by the park      2787   \n",
              "1          2595                              Skylit Midtown Castle      2845   \n",
              "2          3647                THE VILLAGE OF HARLEM....NEW YORK !      4632   \n",
              "3          3831                    Cozy Entire Floor of Brownstone      4869   \n",
              "4          5022   Entire Apt: Spacious Studio/Loft by central park      7192   \n",
              "...         ...                                                ...       ...   \n",
              "48890  36484665    Charming one bedroom - newly renovated rowhouse   8232441   \n",
              "48891  36485057      Affordable room in Bushwick/East Williamsburg   6570630   \n",
              "48892  36485431            Sunny Studio at Historical Neighborhood  23492952   \n",
              "48893  36485609               43rd St. Time Square-cozy single bed  30985759   \n",
              "48894  36487245  Trendy duplex in the very heart of Hell's Kitchen  68119814   \n",
              "\n",
              "           host_name neighbourhood_group       neighbourhood  latitude  \\\n",
              "0               John            Brooklyn          Kensington  40.64749   \n",
              "1           Jennifer           Manhattan             Midtown  40.75362   \n",
              "2          Elisabeth           Manhattan              Harlem  40.80902   \n",
              "3        LisaRoxanne            Brooklyn        Clinton Hill  40.68514   \n",
              "4              Laura           Manhattan         East Harlem  40.79851   \n",
              "...              ...                 ...                 ...       ...   \n",
              "48890        Sabrina            Brooklyn  Bedford-Stuyvesant  40.67853   \n",
              "48891        Marisol            Brooklyn            Bushwick  40.70184   \n",
              "48892  Ilgar & Aysel           Manhattan              Harlem  40.81475   \n",
              "48893            Taz           Manhattan      Hell's Kitchen  40.75751   \n",
              "48894     Christophe           Manhattan      Hell's Kitchen  40.76404   \n",
              "\n",
              "       longitude        room_type  price  minimum_nights  number_of_reviews  \\\n",
              "0      -73.97237     Private room    149               1                  9   \n",
              "1      -73.98377  Entire home/apt    225               1                 45   \n",
              "2      -73.94190     Private room    150               3                  0   \n",
              "3      -73.95976  Entire home/apt     89               1                270   \n",
              "4      -73.94399  Entire home/apt     80              10                  9   \n",
              "...          ...              ...    ...             ...                ...   \n",
              "48890  -73.94995     Private room     70               2                  0   \n",
              "48891  -73.93317     Private room     40               4                  0   \n",
              "48892  -73.94867  Entire home/apt    115              10                  0   \n",
              "48893  -73.99112      Shared room     55               1                  0   \n",
              "48894  -73.98933     Private room     90               7                  0   \n",
              "\n",
              "      last_review  reviews_per_month  calculated_host_listings_count  \\\n",
              "0      2018-10-19               0.21                               6   \n",
              "1      2019-05-21               0.38                               2   \n",
              "2             NaN                NaN                               1   \n",
              "3      2019-07-05               4.64                               1   \n",
              "4      2018-11-19               0.10                               1   \n",
              "...           ...                ...                             ...   \n",
              "48890         NaN                NaN                               2   \n",
              "48891         NaN                NaN                               2   \n",
              "48892         NaN                NaN                               1   \n",
              "48893         NaN                NaN                               6   \n",
              "48894         NaN                NaN                               1   \n",
              "\n",
              "       availability_365  \n",
              "0                   365  \n",
              "1                   355  \n",
              "2                   365  \n",
              "3                   194  \n",
              "4                     0  \n",
              "...                 ...  \n",
              "48890                 9  \n",
              "48891                36  \n",
              "48892                27  \n",
              "48893                 2  \n",
              "48894                23  \n",
              "\n",
              "[48895 rows x 16 columns]"
            ],
            "text/html": [
              "\n",
              "  <div id=\"df-49f7e319-2e9a-4be2-a6f4-25ac9cfd5f87\" class=\"colab-df-container\">\n",
              "    <div>\n",
              "<style scoped>\n",
              "    .dataframe tbody tr th:only-of-type {\n",
              "        vertical-align: middle;\n",
              "    }\n",
              "\n",
              "    .dataframe tbody tr th {\n",
              "        vertical-align: top;\n",
              "    }\n",
              "\n",
              "    .dataframe thead th {\n",
              "        text-align: right;\n",
              "    }\n",
              "</style>\n",
              "<table border=\"1\" class=\"dataframe\">\n",
              "  <thead>\n",
              "    <tr style=\"text-align: right;\">\n",
              "      <th></th>\n",
              "      <th>id</th>\n",
              "      <th>name</th>\n",
              "      <th>host_id</th>\n",
              "      <th>host_name</th>\n",
              "      <th>neighbourhood_group</th>\n",
              "      <th>neighbourhood</th>\n",
              "      <th>latitude</th>\n",
              "      <th>longitude</th>\n",
              "      <th>room_type</th>\n",
              "      <th>price</th>\n",
              "      <th>minimum_nights</th>\n",
              "      <th>number_of_reviews</th>\n",
              "      <th>last_review</th>\n",
              "      <th>reviews_per_month</th>\n",
              "      <th>calculated_host_listings_count</th>\n",
              "      <th>availability_365</th>\n",
              "    </tr>\n",
              "  </thead>\n",
              "  <tbody>\n",
              "    <tr>\n",
              "      <th>0</th>\n",
              "      <td>2539</td>\n",
              "      <td>Clean &amp; quiet apt home by the park</td>\n",
              "      <td>2787</td>\n",
              "      <td>John</td>\n",
              "      <td>Brooklyn</td>\n",
              "      <td>Kensington</td>\n",
              "      <td>40.64749</td>\n",
              "      <td>-73.97237</td>\n",
              "      <td>Private room</td>\n",
              "      <td>149</td>\n",
              "      <td>1</td>\n",
              "      <td>9</td>\n",
              "      <td>2018-10-19</td>\n",
              "      <td>0.21</td>\n",
              "      <td>6</td>\n",
              "      <td>365</td>\n",
              "    </tr>\n",
              "    <tr>\n",
              "      <th>1</th>\n",
              "      <td>2595</td>\n",
              "      <td>Skylit Midtown Castle</td>\n",
              "      <td>2845</td>\n",
              "      <td>Jennifer</td>\n",
              "      <td>Manhattan</td>\n",
              "      <td>Midtown</td>\n",
              "      <td>40.75362</td>\n",
              "      <td>-73.98377</td>\n",
              "      <td>Entire home/apt</td>\n",
              "      <td>225</td>\n",
              "      <td>1</td>\n",
              "      <td>45</td>\n",
              "      <td>2019-05-21</td>\n",
              "      <td>0.38</td>\n",
              "      <td>2</td>\n",
              "      <td>355</td>\n",
              "    </tr>\n",
              "    <tr>\n",
              "      <th>2</th>\n",
              "      <td>3647</td>\n",
              "      <td>THE VILLAGE OF HARLEM....NEW YORK !</td>\n",
              "      <td>4632</td>\n",
              "      <td>Elisabeth</td>\n",
              "      <td>Manhattan</td>\n",
              "      <td>Harlem</td>\n",
              "      <td>40.80902</td>\n",
              "      <td>-73.94190</td>\n",
              "      <td>Private room</td>\n",
              "      <td>150</td>\n",
              "      <td>3</td>\n",
              "      <td>0</td>\n",
              "      <td>NaN</td>\n",
              "      <td>NaN</td>\n",
              "      <td>1</td>\n",
              "      <td>365</td>\n",
              "    </tr>\n",
              "    <tr>\n",
              "      <th>3</th>\n",
              "      <td>3831</td>\n",
              "      <td>Cozy Entire Floor of Brownstone</td>\n",
              "      <td>4869</td>\n",
              "      <td>LisaRoxanne</td>\n",
              "      <td>Brooklyn</td>\n",
              "      <td>Clinton Hill</td>\n",
              "      <td>40.68514</td>\n",
              "      <td>-73.95976</td>\n",
              "      <td>Entire home/apt</td>\n",
              "      <td>89</td>\n",
              "      <td>1</td>\n",
              "      <td>270</td>\n",
              "      <td>2019-07-05</td>\n",
              "      <td>4.64</td>\n",
              "      <td>1</td>\n",
              "      <td>194</td>\n",
              "    </tr>\n",
              "    <tr>\n",
              "      <th>4</th>\n",
              "      <td>5022</td>\n",
              "      <td>Entire Apt: Spacious Studio/Loft by central park</td>\n",
              "      <td>7192</td>\n",
              "      <td>Laura</td>\n",
              "      <td>Manhattan</td>\n",
              "      <td>East Harlem</td>\n",
              "      <td>40.79851</td>\n",
              "      <td>-73.94399</td>\n",
              "      <td>Entire home/apt</td>\n",
              "      <td>80</td>\n",
              "      <td>10</td>\n",
              "      <td>9</td>\n",
              "      <td>2018-11-19</td>\n",
              "      <td>0.10</td>\n",
              "      <td>1</td>\n",
              "      <td>0</td>\n",
              "    </tr>\n",
              "    <tr>\n",
              "      <th>...</th>\n",
              "      <td>...</td>\n",
              "      <td>...</td>\n",
              "      <td>...</td>\n",
              "      <td>...</td>\n",
              "      <td>...</td>\n",
              "      <td>...</td>\n",
              "      <td>...</td>\n",
              "      <td>...</td>\n",
              "      <td>...</td>\n",
              "      <td>...</td>\n",
              "      <td>...</td>\n",
              "      <td>...</td>\n",
              "      <td>...</td>\n",
              "      <td>...</td>\n",
              "      <td>...</td>\n",
              "      <td>...</td>\n",
              "    </tr>\n",
              "    <tr>\n",
              "      <th>48890</th>\n",
              "      <td>36484665</td>\n",
              "      <td>Charming one bedroom - newly renovated rowhouse</td>\n",
              "      <td>8232441</td>\n",
              "      <td>Sabrina</td>\n",
              "      <td>Brooklyn</td>\n",
              "      <td>Bedford-Stuyvesant</td>\n",
              "      <td>40.67853</td>\n",
              "      <td>-73.94995</td>\n",
              "      <td>Private room</td>\n",
              "      <td>70</td>\n",
              "      <td>2</td>\n",
              "      <td>0</td>\n",
              "      <td>NaN</td>\n",
              "      <td>NaN</td>\n",
              "      <td>2</td>\n",
              "      <td>9</td>\n",
              "    </tr>\n",
              "    <tr>\n",
              "      <th>48891</th>\n",
              "      <td>36485057</td>\n",
              "      <td>Affordable room in Bushwick/East Williamsburg</td>\n",
              "      <td>6570630</td>\n",
              "      <td>Marisol</td>\n",
              "      <td>Brooklyn</td>\n",
              "      <td>Bushwick</td>\n",
              "      <td>40.70184</td>\n",
              "      <td>-73.93317</td>\n",
              "      <td>Private room</td>\n",
              "      <td>40</td>\n",
              "      <td>4</td>\n",
              "      <td>0</td>\n",
              "      <td>NaN</td>\n",
              "      <td>NaN</td>\n",
              "      <td>2</td>\n",
              "      <td>36</td>\n",
              "    </tr>\n",
              "    <tr>\n",
              "      <th>48892</th>\n",
              "      <td>36485431</td>\n",
              "      <td>Sunny Studio at Historical Neighborhood</td>\n",
              "      <td>23492952</td>\n",
              "      <td>Ilgar &amp; Aysel</td>\n",
              "      <td>Manhattan</td>\n",
              "      <td>Harlem</td>\n",
              "      <td>40.81475</td>\n",
              "      <td>-73.94867</td>\n",
              "      <td>Entire home/apt</td>\n",
              "      <td>115</td>\n",
              "      <td>10</td>\n",
              "      <td>0</td>\n",
              "      <td>NaN</td>\n",
              "      <td>NaN</td>\n",
              "      <td>1</td>\n",
              "      <td>27</td>\n",
              "    </tr>\n",
              "    <tr>\n",
              "      <th>48893</th>\n",
              "      <td>36485609</td>\n",
              "      <td>43rd St. Time Square-cozy single bed</td>\n",
              "      <td>30985759</td>\n",
              "      <td>Taz</td>\n",
              "      <td>Manhattan</td>\n",
              "      <td>Hell's Kitchen</td>\n",
              "      <td>40.75751</td>\n",
              "      <td>-73.99112</td>\n",
              "      <td>Shared room</td>\n",
              "      <td>55</td>\n",
              "      <td>1</td>\n",
              "      <td>0</td>\n",
              "      <td>NaN</td>\n",
              "      <td>NaN</td>\n",
              "      <td>6</td>\n",
              "      <td>2</td>\n",
              "    </tr>\n",
              "    <tr>\n",
              "      <th>48894</th>\n",
              "      <td>36487245</td>\n",
              "      <td>Trendy duplex in the very heart of Hell's Kitchen</td>\n",
              "      <td>68119814</td>\n",
              "      <td>Christophe</td>\n",
              "      <td>Manhattan</td>\n",
              "      <td>Hell's Kitchen</td>\n",
              "      <td>40.76404</td>\n",
              "      <td>-73.98933</td>\n",
              "      <td>Private room</td>\n",
              "      <td>90</td>\n",
              "      <td>7</td>\n",
              "      <td>0</td>\n",
              "      <td>NaN</td>\n",
              "      <td>NaN</td>\n",
              "      <td>1</td>\n",
              "      <td>23</td>\n",
              "    </tr>\n",
              "  </tbody>\n",
              "</table>\n",
              "<p>48895 rows × 16 columns</p>\n",
              "</div>\n",
              "    <div class=\"colab-df-buttons\">\n",
              "\n",
              "  <div class=\"colab-df-container\">\n",
              "    <button class=\"colab-df-convert\" onclick=\"convertToInteractive('df-49f7e319-2e9a-4be2-a6f4-25ac9cfd5f87')\"\n",
              "            title=\"Convert this dataframe to an interactive table.\"\n",
              "            style=\"display:none;\">\n",
              "\n",
              "  <svg xmlns=\"http://www.w3.org/2000/svg\" height=\"24px\" viewBox=\"0 -960 960 960\">\n",
              "    <path d=\"M120-120v-720h720v720H120Zm60-500h600v-160H180v160Zm220 220h160v-160H400v160Zm0 220h160v-160H400v160ZM180-400h160v-160H180v160Zm440 0h160v-160H620v160ZM180-180h160v-160H180v160Zm440 0h160v-160H620v160Z\"/>\n",
              "  </svg>\n",
              "    </button>\n",
              "\n",
              "  <style>\n",
              "    .colab-df-container {\n",
              "      display:flex;\n",
              "      gap: 12px;\n",
              "    }\n",
              "\n",
              "    .colab-df-convert {\n",
              "      background-color: #E8F0FE;\n",
              "      border: none;\n",
              "      border-radius: 50%;\n",
              "      cursor: pointer;\n",
              "      display: none;\n",
              "      fill: #1967D2;\n",
              "      height: 32px;\n",
              "      padding: 0 0 0 0;\n",
              "      width: 32px;\n",
              "    }\n",
              "\n",
              "    .colab-df-convert:hover {\n",
              "      background-color: #E2EBFA;\n",
              "      box-shadow: 0px 1px 2px rgba(60, 64, 67, 0.3), 0px 1px 3px 1px rgba(60, 64, 67, 0.15);\n",
              "      fill: #174EA6;\n",
              "    }\n",
              "\n",
              "    .colab-df-buttons div {\n",
              "      margin-bottom: 4px;\n",
              "    }\n",
              "\n",
              "    [theme=dark] .colab-df-convert {\n",
              "      background-color: #3B4455;\n",
              "      fill: #D2E3FC;\n",
              "    }\n",
              "\n",
              "    [theme=dark] .colab-df-convert:hover {\n",
              "      background-color: #434B5C;\n",
              "      box-shadow: 0px 1px 3px 1px rgba(0, 0, 0, 0.15);\n",
              "      filter: drop-shadow(0px 1px 2px rgba(0, 0, 0, 0.3));\n",
              "      fill: #FFFFFF;\n",
              "    }\n",
              "  </style>\n",
              "\n",
              "    <script>\n",
              "      const buttonEl =\n",
              "        document.querySelector('#df-49f7e319-2e9a-4be2-a6f4-25ac9cfd5f87 button.colab-df-convert');\n",
              "      buttonEl.style.display =\n",
              "        google.colab.kernel.accessAllowed ? 'block' : 'none';\n",
              "\n",
              "      async function convertToInteractive(key) {\n",
              "        const element = document.querySelector('#df-49f7e319-2e9a-4be2-a6f4-25ac9cfd5f87');\n",
              "        const dataTable =\n",
              "          await google.colab.kernel.invokeFunction('convertToInteractive',\n",
              "                                                    [key], {});\n",
              "        if (!dataTable) return;\n",
              "\n",
              "        const docLinkHtml = 'Like what you see? Visit the ' +\n",
              "          '<a target=\"_blank\" href=https://colab.research.google.com/notebooks/data_table.ipynb>data table notebook</a>'\n",
              "          + ' to learn more about interactive tables.';\n",
              "        element.innerHTML = '';\n",
              "        dataTable['output_type'] = 'display_data';\n",
              "        await google.colab.output.renderOutput(dataTable, element);\n",
              "        const docLink = document.createElement('div');\n",
              "        docLink.innerHTML = docLinkHtml;\n",
              "        element.appendChild(docLink);\n",
              "      }\n",
              "    </script>\n",
              "  </div>\n",
              "\n",
              "\n",
              "    <div id=\"df-c92d6c23-4516-40bd-8c6c-8903fd0c0057\">\n",
              "      <button class=\"colab-df-quickchart\" onclick=\"quickchart('df-c92d6c23-4516-40bd-8c6c-8903fd0c0057')\"\n",
              "                title=\"Suggest charts\"\n",
              "                style=\"display:none;\">\n",
              "\n",
              "<svg xmlns=\"http://www.w3.org/2000/svg\" height=\"24px\"viewBox=\"0 0 24 24\"\n",
              "     width=\"24px\">\n",
              "    <g>\n",
              "        <path d=\"M19 3H5c-1.1 0-2 .9-2 2v14c0 1.1.9 2 2 2h14c1.1 0 2-.9 2-2V5c0-1.1-.9-2-2-2zM9 17H7v-7h2v7zm4 0h-2V7h2v10zm4 0h-2v-4h2v4z\"/>\n",
              "    </g>\n",
              "</svg>\n",
              "      </button>\n",
              "\n",
              "<style>\n",
              "  .colab-df-quickchart {\n",
              "      --bg-color: #E8F0FE;\n",
              "      --fill-color: #1967D2;\n",
              "      --hover-bg-color: #E2EBFA;\n",
              "      --hover-fill-color: #174EA6;\n",
              "      --disabled-fill-color: #AAA;\n",
              "      --disabled-bg-color: #DDD;\n",
              "  }\n",
              "\n",
              "  [theme=dark] .colab-df-quickchart {\n",
              "      --bg-color: #3B4455;\n",
              "      --fill-color: #D2E3FC;\n",
              "      --hover-bg-color: #434B5C;\n",
              "      --hover-fill-color: #FFFFFF;\n",
              "      --disabled-bg-color: #3B4455;\n",
              "      --disabled-fill-color: #666;\n",
              "  }\n",
              "\n",
              "  .colab-df-quickchart {\n",
              "    background-color: var(--bg-color);\n",
              "    border: none;\n",
              "    border-radius: 50%;\n",
              "    cursor: pointer;\n",
              "    display: none;\n",
              "    fill: var(--fill-color);\n",
              "    height: 32px;\n",
              "    padding: 0;\n",
              "    width: 32px;\n",
              "  }\n",
              "\n",
              "  .colab-df-quickchart:hover {\n",
              "    background-color: var(--hover-bg-color);\n",
              "    box-shadow: 0 1px 2px rgba(60, 64, 67, 0.3), 0 1px 3px 1px rgba(60, 64, 67, 0.15);\n",
              "    fill: var(--button-hover-fill-color);\n",
              "  }\n",
              "\n",
              "  .colab-df-quickchart-complete:disabled,\n",
              "  .colab-df-quickchart-complete:disabled:hover {\n",
              "    background-color: var(--disabled-bg-color);\n",
              "    fill: var(--disabled-fill-color);\n",
              "    box-shadow: none;\n",
              "  }\n",
              "\n",
              "  .colab-df-spinner {\n",
              "    border: 2px solid var(--fill-color);\n",
              "    border-color: transparent;\n",
              "    border-bottom-color: var(--fill-color);\n",
              "    animation:\n",
              "      spin 1s steps(1) infinite;\n",
              "  }\n",
              "\n",
              "  @keyframes spin {\n",
              "    0% {\n",
              "      border-color: transparent;\n",
              "      border-bottom-color: var(--fill-color);\n",
              "      border-left-color: var(--fill-color);\n",
              "    }\n",
              "    20% {\n",
              "      border-color: transparent;\n",
              "      border-left-color: var(--fill-color);\n",
              "      border-top-color: var(--fill-color);\n",
              "    }\n",
              "    30% {\n",
              "      border-color: transparent;\n",
              "      border-left-color: var(--fill-color);\n",
              "      border-top-color: var(--fill-color);\n",
              "      border-right-color: var(--fill-color);\n",
              "    }\n",
              "    40% {\n",
              "      border-color: transparent;\n",
              "      border-right-color: var(--fill-color);\n",
              "      border-top-color: var(--fill-color);\n",
              "    }\n",
              "    60% {\n",
              "      border-color: transparent;\n",
              "      border-right-color: var(--fill-color);\n",
              "    }\n",
              "    80% {\n",
              "      border-color: transparent;\n",
              "      border-right-color: var(--fill-color);\n",
              "      border-bottom-color: var(--fill-color);\n",
              "    }\n",
              "    90% {\n",
              "      border-color: transparent;\n",
              "      border-bottom-color: var(--fill-color);\n",
              "    }\n",
              "  }\n",
              "</style>\n",
              "\n",
              "      <script>\n",
              "        async function quickchart(key) {\n",
              "          const quickchartButtonEl =\n",
              "            document.querySelector('#' + key + ' button');\n",
              "          quickchartButtonEl.disabled = true;  // To prevent multiple clicks.\n",
              "          quickchartButtonEl.classList.add('colab-df-spinner');\n",
              "          try {\n",
              "            const charts = await google.colab.kernel.invokeFunction(\n",
              "                'suggestCharts', [key], {});\n",
              "          } catch (error) {\n",
              "            console.error('Error during call to suggestCharts:', error);\n",
              "          }\n",
              "          quickchartButtonEl.classList.remove('colab-df-spinner');\n",
              "          quickchartButtonEl.classList.add('colab-df-quickchart-complete');\n",
              "        }\n",
              "        (() => {\n",
              "          let quickchartButtonEl =\n",
              "            document.querySelector('#df-c92d6c23-4516-40bd-8c6c-8903fd0c0057 button');\n",
              "          quickchartButtonEl.style.display =\n",
              "            google.colab.kernel.accessAllowed ? 'block' : 'none';\n",
              "        })();\n",
              "      </script>\n",
              "    </div>\n",
              "\n",
              "  <div id=\"id_325e4b32-308d-4dae-9ca3-09811045a70c\">\n",
              "    <style>\n",
              "      .colab-df-generate {\n",
              "        background-color: #E8F0FE;\n",
              "        border: none;\n",
              "        border-radius: 50%;\n",
              "        cursor: pointer;\n",
              "        display: none;\n",
              "        fill: #1967D2;\n",
              "        height: 32px;\n",
              "        padding: 0 0 0 0;\n",
              "        width: 32px;\n",
              "      }\n",
              "\n",
              "      .colab-df-generate:hover {\n",
              "        background-color: #E2EBFA;\n",
              "        box-shadow: 0px 1px 2px rgba(60, 64, 67, 0.3), 0px 1px 3px 1px rgba(60, 64, 67, 0.15);\n",
              "        fill: #174EA6;\n",
              "      }\n",
              "\n",
              "      [theme=dark] .colab-df-generate {\n",
              "        background-color: #3B4455;\n",
              "        fill: #D2E3FC;\n",
              "      }\n",
              "\n",
              "      [theme=dark] .colab-df-generate:hover {\n",
              "        background-color: #434B5C;\n",
              "        box-shadow: 0px 1px 3px 1px rgba(0, 0, 0, 0.15);\n",
              "        filter: drop-shadow(0px 1px 2px rgba(0, 0, 0, 0.3));\n",
              "        fill: #FFFFFF;\n",
              "      }\n",
              "    </style>\n",
              "    <button class=\"colab-df-generate\" onclick=\"generateWithVariable('df')\"\n",
              "            title=\"Generate code using this dataframe.\"\n",
              "            style=\"display:none;\">\n",
              "\n",
              "  <svg xmlns=\"http://www.w3.org/2000/svg\" height=\"24px\"viewBox=\"0 0 24 24\"\n",
              "       width=\"24px\">\n",
              "    <path d=\"M7,19H8.4L18.45,9,17,7.55,7,17.6ZM5,21V16.75L18.45,3.32a2,2,0,0,1,2.83,0l1.4,1.43a1.91,1.91,0,0,1,.58,1.4,1.91,1.91,0,0,1-.58,1.4L9.25,21ZM18.45,9,17,7.55Zm-12,3A5.31,5.31,0,0,0,4.9,8.1,5.31,5.31,0,0,0,1,6.5,5.31,5.31,0,0,0,4.9,4.9,5.31,5.31,0,0,0,6.5,1,5.31,5.31,0,0,0,8.1,4.9,5.31,5.31,0,0,0,12,6.5,5.46,5.46,0,0,0,6.5,12Z\"/>\n",
              "  </svg>\n",
              "    </button>\n",
              "    <script>\n",
              "      (() => {\n",
              "      const buttonEl =\n",
              "        document.querySelector('#id_325e4b32-308d-4dae-9ca3-09811045a70c button.colab-df-generate');\n",
              "      buttonEl.style.display =\n",
              "        google.colab.kernel.accessAllowed ? 'block' : 'none';\n",
              "\n",
              "      buttonEl.onclick = () => {\n",
              "        google.colab.notebook.generateWithVariable('df');\n",
              "      }\n",
              "      })();\n",
              "    </script>\n",
              "  </div>\n",
              "\n",
              "    </div>\n",
              "  </div>\n"
            ],
            "application/vnd.google.colaboratory.intrinsic+json": {
              "type": "dataframe",
              "variable_name": "df",
              "summary": "{\n  \"name\": \"df\",\n  \"rows\": 48895,\n  \"fields\": [\n    {\n      \"column\": \"id\",\n      \"properties\": {\n        \"dtype\": \"number\",\n        \"std\": 10983108,\n        \"min\": 2539,\n        \"max\": 36487245,\n        \"num_unique_values\": 48895,\n        \"samples\": [\n          317905,\n          34205267,\n          12342297\n        ],\n        \"semantic_type\": \"\",\n        \"description\": \"\"\n      }\n    },\n    {\n      \"column\": \"name\",\n      \"properties\": {\n        \"dtype\": \"string\",\n        \"num_unique_values\": 47905,\n        \"samples\": [\n          \"Luxurious Penthouse 3bed/2bath Apt w/Gym, Doorman\",\n          \"MANHATTAN LIVING!\",\n          \"Wonderful private room near Two Bridges II\"\n        ],\n        \"semantic_type\": \"\",\n        \"description\": \"\"\n      }\n    },\n    {\n      \"column\": \"host_id\",\n      \"properties\": {\n        \"dtype\": \"number\",\n        \"std\": 78610967,\n        \"min\": 2438,\n        \"max\": 274321313,\n        \"num_unique_values\": 37457,\n        \"samples\": [\n          1504257,\n          5592151,\n          208938947\n        ],\n        \"semantic_type\": \"\",\n        \"description\": \"\"\n      }\n    },\n    {\n      \"column\": \"host_name\",\n      \"properties\": {\n        \"dtype\": \"category\",\n        \"num_unique_values\": 11452,\n        \"samples\": [\n          \"Eki\",\n          \"Laine\",\n          \"Elen\"\n        ],\n        \"semantic_type\": \"\",\n        \"description\": \"\"\n      }\n    },\n    {\n      \"column\": \"neighbourhood_group\",\n      \"properties\": {\n        \"dtype\": \"category\",\n        \"num_unique_values\": 5,\n        \"samples\": [\n          \"Manhattan\",\n          \"Bronx\",\n          \"Queens\"\n        ],\n        \"semantic_type\": \"\",\n        \"description\": \"\"\n      }\n    },\n    {\n      \"column\": \"neighbourhood\",\n      \"properties\": {\n        \"dtype\": \"category\",\n        \"num_unique_values\": 221,\n        \"samples\": [\n          \"Stuyvesant Town\",\n          \"Eltingville\",\n          \"Stapleton\"\n        ],\n        \"semantic_type\": \"\",\n        \"description\": \"\"\n      }\n    },\n    {\n      \"column\": \"latitude\",\n      \"properties\": {\n        \"dtype\": \"number\",\n        \"std\": 0.054530078057371895,\n        \"min\": 40.49979,\n        \"max\": 40.91306,\n        \"num_unique_values\": 19048,\n        \"samples\": [\n          40.75913,\n          40.68314,\n          40.72126\n        ],\n        \"semantic_type\": \"\",\n        \"description\": \"\"\n      }\n    },\n    {\n      \"column\": \"longitude\",\n      \"properties\": {\n        \"dtype\": \"number\",\n        \"std\": 0.04615673610637182,\n        \"min\": -74.24442,\n        \"max\": -73.71299,\n        \"num_unique_values\": 14718,\n        \"samples\": [\n          -73.88892,\n          -73.87851,\n          -73.97175\n        ],\n        \"semantic_type\": \"\",\n        \"description\": \"\"\n      }\n    },\n    {\n      \"column\": \"room_type\",\n      \"properties\": {\n        \"dtype\": \"category\",\n        \"num_unique_values\": 3,\n        \"samples\": [\n          \"Private room\",\n          \"Entire home/apt\",\n          \"Shared room\"\n        ],\n        \"semantic_type\": \"\",\n        \"description\": \"\"\n      }\n    },\n    {\n      \"column\": \"price\",\n      \"properties\": {\n        \"dtype\": \"number\",\n        \"std\": 240,\n        \"min\": 0,\n        \"max\": 10000,\n        \"num_unique_values\": 674,\n        \"samples\": [\n          519,\n          675,\n          488\n        ],\n        \"semantic_type\": \"\",\n        \"description\": \"\"\n      }\n    },\n    {\n      \"column\": \"minimum_nights\",\n      \"properties\": {\n        \"dtype\": \"number\",\n        \"std\": 20,\n        \"min\": 1,\n        \"max\": 1250,\n        \"num_unique_values\": 109,\n        \"samples\": [\n          160,\n          60,\n          2\n        ],\n        \"semantic_type\": \"\",\n        \"description\": \"\"\n      }\n    },\n    {\n      \"column\": \"number_of_reviews\",\n      \"properties\": {\n        \"dtype\": \"number\",\n        \"std\": 44,\n        \"min\": 0,\n        \"max\": 629,\n        \"num_unique_values\": 394,\n        \"samples\": [\n          12,\n          144,\n          314\n        ],\n        \"semantic_type\": \"\",\n        \"description\": \"\"\n      }\n    },\n    {\n      \"column\": \"last_review\",\n      \"properties\": {\n        \"dtype\": \"object\",\n        \"num_unique_values\": 1764,\n        \"samples\": [\n          \"2016-07-26\",\n          \"2018-05-21\",\n          \"2019-02-27\"\n        ],\n        \"semantic_type\": \"\",\n        \"description\": \"\"\n      }\n    },\n    {\n      \"column\": \"reviews_per_month\",\n      \"properties\": {\n        \"dtype\": \"number\",\n        \"std\": 1.6804419952744627,\n        \"min\": 0.01,\n        \"max\": 58.5,\n        \"num_unique_values\": 937,\n        \"samples\": [\n          1.7,\n          0.28,\n          2.14\n        ],\n        \"semantic_type\": \"\",\n        \"description\": \"\"\n      }\n    },\n    {\n      \"column\": \"calculated_host_listings_count\",\n      \"properties\": {\n        \"dtype\": \"number\",\n        \"std\": 32,\n        \"min\": 1,\n        \"max\": 327,\n        \"num_unique_values\": 47,\n        \"samples\": [\n          37,\n          17,\n          121\n        ],\n        \"semantic_type\": \"\",\n        \"description\": \"\"\n      }\n    },\n    {\n      \"column\": \"availability_365\",\n      \"properties\": {\n        \"dtype\": \"number\",\n        \"std\": 131,\n        \"min\": 0,\n        \"max\": 365,\n        \"num_unique_values\": 366,\n        \"samples\": [\n          335,\n          309,\n          249\n        ],\n        \"semantic_type\": \"\",\n        \"description\": \"\"\n      }\n    }\n  ]\n}"
            }
          },
          "metadata": {},
          "execution_count": 1
        }
      ],
      "source": [
        "import numpy as np\n",
        "import pandas as pd\n",
        "\n",
        "URL = \"https://raw.githubusercontent.com/Datamanim/pandas/main/AB_NYC_2019.csv\"\n",
        "df = pd.read_csv(URL)\n",
        "df"
      ]
    },
    {
      "cell_type": "markdown",
      "source": [
        "# Task 2: Display the First 5 Rows to Confirm the Data"
      ],
      "metadata": {
        "id": "4k95bX1B8FSq"
      }
    },
    {
      "cell_type": "code",
      "source": [
        "print(df.head())\n"
      ],
      "metadata": {
        "colab": {
          "base_uri": "https://localhost:8080/"
        },
        "id": "RARub7yx8HRD",
        "outputId": "7356bd53-a05e-457c-8f0c-eead5f1b41f3"
      },
      "execution_count": null,
      "outputs": [
        {
          "output_type": "stream",
          "name": "stdout",
          "text": [
            "     id                                              name  host_id  \\\n",
            "0  2539                Clean & quiet apt home by the park     2787   \n",
            "1  2595                             Skylit Midtown Castle     2845   \n",
            "2  3647               THE VILLAGE OF HARLEM....NEW YORK !     4632   \n",
            "3  3831                   Cozy Entire Floor of Brownstone     4869   \n",
            "4  5022  Entire Apt: Spacious Studio/Loft by central park     7192   \n",
            "\n",
            "     host_name neighbourhood_group neighbourhood  latitude  longitude  \\\n",
            "0         John            Brooklyn    Kensington  40.64749  -73.97237   \n",
            "1     Jennifer           Manhattan       Midtown  40.75362  -73.98377   \n",
            "2    Elisabeth           Manhattan        Harlem  40.80902  -73.94190   \n",
            "3  LisaRoxanne            Brooklyn  Clinton Hill  40.68514  -73.95976   \n",
            "4        Laura           Manhattan   East Harlem  40.79851  -73.94399   \n",
            "\n",
            "         room_type  price  minimum_nights  number_of_reviews last_review  \\\n",
            "0     Private room    149               1                  9  2018-10-19   \n",
            "1  Entire home/apt    225               1                 45  2019-05-21   \n",
            "2     Private room    150               3                  0         NaN   \n",
            "3  Entire home/apt     89               1                270  2019-07-05   \n",
            "4  Entire home/apt     80              10                  9  2018-11-19   \n",
            "\n",
            "   reviews_per_month  calculated_host_listings_count  availability_365  \n",
            "0               0.21                               6               365  \n",
            "1               0.38                               2               355  \n",
            "2                NaN                               1               365  \n",
            "3               4.64                               1               194  \n",
            "4               0.10                               1                 0  \n"
          ]
        }
      ]
    },
    {
      "cell_type": "markdown",
      "source": [
        "# Task 3: Explore the Columns and Dataset Shape"
      ],
      "metadata": {
        "id": "Njg6hjtv8qa5"
      }
    },
    {
      "cell_type": "markdown",
      "source": [
        "##1. Pritn Columns"
      ],
      "metadata": {
        "id": "oV-VzDs58r_4"
      }
    },
    {
      "cell_type": "code",
      "source": [
        "print(df.columns)"
      ],
      "metadata": {
        "colab": {
          "base_uri": "https://localhost:8080/"
        },
        "id": "39T45uiF8zvU",
        "outputId": "cbc040f3-7dd8-4c53-d4b2-6cafcb5aacb7"
      },
      "execution_count": null,
      "outputs": [
        {
          "output_type": "stream",
          "name": "stdout",
          "text": [
            "Index(['id', 'name', 'host_id', 'host_name', 'neighbourhood_group',\n",
            "       'neighbourhood', 'latitude', 'longitude', 'room_type', 'price',\n",
            "       'minimum_nights', 'number_of_reviews', 'last_review',\n",
            "       'reviews_per_month', 'calculated_host_listings_count',\n",
            "       'availability_365'],\n",
            "      dtype='object')\n"
          ]
        }
      ]
    },
    {
      "cell_type": "markdown",
      "source": [
        "## 2. Print the number of rows and columns using:\n",
        "\n"
      ],
      "metadata": {
        "id": "5yXbLXS88873"
      }
    },
    {
      "cell_type": "code",
      "source": [
        "print(df.shape)"
      ],
      "metadata": {
        "colab": {
          "base_uri": "https://localhost:8080/"
        },
        "id": "dlfSZybK9CMM",
        "outputId": "f3ca57d8-a4c9-42a9-ff10-d48f576fdf88"
      },
      "execution_count": null,
      "outputs": [
        {
          "output_type": "stream",
          "name": "stdout",
          "text": [
            "(48895, 16)\n"
          ]
        }
      ]
    },
    {
      "cell_type": "markdown",
      "source": [
        "# Task 4: Explore Basic Info About the Dataset"
      ],
      "metadata": {
        "id": "os0VeR939h80"
      }
    },
    {
      "cell_type": "code",
      "source": [
        "print(df.info())"
      ],
      "metadata": {
        "colab": {
          "base_uri": "https://localhost:8080/"
        },
        "id": "ZZPfNAGL9nJY",
        "outputId": "68c76723-9439-488d-916c-3f7583bcefc3"
      },
      "execution_count": null,
      "outputs": [
        {
          "output_type": "stream",
          "name": "stdout",
          "text": [
            "<class 'pandas.core.frame.DataFrame'>\n",
            "RangeIndex: 48895 entries, 0 to 48894\n",
            "Data columns (total 16 columns):\n",
            " #   Column                          Non-Null Count  Dtype  \n",
            "---  ------                          --------------  -----  \n",
            " 0   id                              48895 non-null  int64  \n",
            " 1   name                            48879 non-null  object \n",
            " 2   host_id                         48895 non-null  int64  \n",
            " 3   host_name                       48874 non-null  object \n",
            " 4   neighbourhood_group             48895 non-null  object \n",
            " 5   neighbourhood                   48895 non-null  object \n",
            " 6   latitude                        48895 non-null  float64\n",
            " 7   longitude                       48895 non-null  float64\n",
            " 8   room_type                       48895 non-null  object \n",
            " 9   price                           48895 non-null  int64  \n",
            " 10  minimum_nights                  48895 non-null  int64  \n",
            " 11  number_of_reviews               48895 non-null  int64  \n",
            " 12  last_review                     38843 non-null  object \n",
            " 13  reviews_per_month               38843 non-null  float64\n",
            " 14  calculated_host_listings_count  48895 non-null  int64  \n",
            " 15  availability_365                48895 non-null  int64  \n",
            "dtypes: float64(3), int64(7), object(6)\n",
            "memory usage: 6.0+ MB\n",
            "None\n"
          ]
        }
      ]
    },
    {
      "cell_type": "markdown",
      "source": [
        "أمثلة لأعمدة تحتوي على قيم ناقصة:\n",
        "name ✅ ناقص بعض القيم\n",
        "\n",
        "host_name ✅ ناقص بعض القيم\n",
        "\n",
        "last_review ✅ ناقص كثير\n",
        "\n",
        "reviews_per_month ✅ ناقص كثير"
      ],
      "metadata": {
        "id": "nmt5l9CR-xIF"
      }
    },
    {
      "cell_type": "markdown",
      "source": [
        "# Task 5: Generate Descriptive Statistics of the Dataset"
      ],
      "metadata": {
        "id": "xkqQNvJ0_H2d"
      }
    },
    {
      "cell_type": "code",
      "source": [
        "print(df.describe())"
      ],
      "metadata": {
        "colab": {
          "base_uri": "https://localhost:8080/"
        },
        "id": "ckULGn3H_Rps",
        "outputId": "df4bbf3e-ca63-4e9a-b0ea-f5a5c5f6e70a"
      },
      "execution_count": null,
      "outputs": [
        {
          "output_type": "stream",
          "name": "stdout",
          "text": [
            "                 id       host_id      latitude     longitude         price  \\\n",
            "count  4.889500e+04  4.889500e+04  48895.000000  48895.000000  48895.000000   \n",
            "mean   1.901714e+07  6.762001e+07     40.728949    -73.952170    152.720687   \n",
            "std    1.098311e+07  7.861097e+07      0.054530      0.046157    240.154170   \n",
            "min    2.539000e+03  2.438000e+03     40.499790    -74.244420      0.000000   \n",
            "25%    9.471945e+06  7.822033e+06     40.690100    -73.983070     69.000000   \n",
            "50%    1.967728e+07  3.079382e+07     40.723070    -73.955680    106.000000   \n",
            "75%    2.915218e+07  1.074344e+08     40.763115    -73.936275    175.000000   \n",
            "max    3.648724e+07  2.743213e+08     40.913060    -73.712990  10000.000000   \n",
            "\n",
            "       minimum_nights  number_of_reviews  reviews_per_month  \\\n",
            "count    48895.000000       48895.000000       38843.000000   \n",
            "mean         7.029962          23.274466           1.373221   \n",
            "std         20.510550          44.550582           1.680442   \n",
            "min          1.000000           0.000000           0.010000   \n",
            "25%          1.000000           1.000000           0.190000   \n",
            "50%          3.000000           5.000000           0.720000   \n",
            "75%          5.000000          24.000000           2.020000   \n",
            "max       1250.000000         629.000000          58.500000   \n",
            "\n",
            "       calculated_host_listings_count  availability_365  \n",
            "count                    48895.000000      48895.000000  \n",
            "mean                         7.143982        112.781327  \n",
            "std                         32.952519        131.622289  \n",
            "min                          1.000000          0.000000  \n",
            "25%                          1.000000          0.000000  \n",
            "50%                          1.000000         45.000000  \n",
            "75%                          2.000000        227.000000  \n",
            "max                        327.000000        365.000000  \n"
          ]
        }
      ]
    },
    {
      "cell_type": "markdown",
      "source": [
        "# Task 6: Check and Validate Data Types of Each Column"
      ],
      "metadata": {
        "id": "7YRfYeA-A6C3"
      }
    },
    {
      "cell_type": "code",
      "source": [
        "print(df.dtypes)"
      ],
      "metadata": {
        "colab": {
          "base_uri": "https://localhost:8080/"
        },
        "id": "qgsvJVOJA77A",
        "outputId": "6a6dd0ec-fa8c-4755-dc37-dacbf42a36ea"
      },
      "execution_count": null,
      "outputs": [
        {
          "output_type": "stream",
          "name": "stdout",
          "text": [
            "id                                  int64\n",
            "name                               object\n",
            "host_id                             int64\n",
            "host_name                          object\n",
            "neighbourhood_group                object\n",
            "neighbourhood                      object\n",
            "latitude                          float64\n",
            "longitude                         float64\n",
            "room_type                          object\n",
            "price                               int64\n",
            "minimum_nights                      int64\n",
            "number_of_reviews                   int64\n",
            "last_review                        object\n",
            "reviews_per_month                 float64\n",
            "calculated_host_listings_count      int64\n",
            "availability_365                    int64\n",
            "dtype: object\n"
          ]
        }
      ]
    },
    {
      "cell_type": "markdown",
      "source": [
        "Convert last_review to Date_time"
      ],
      "metadata": {
        "id": "Ft1GuMBaBWJ3"
      }
    },
    {
      "cell_type": "code",
      "source": [
        "df[\"last_review\"] = pd.to_datetime(df[\"last_review\"])\n",
        "print(df.dtypes)"
      ],
      "metadata": {
        "colab": {
          "base_uri": "https://localhost:8080/"
        },
        "id": "fCibNXOsBjSy",
        "outputId": "444a1980-dacb-4f8b-dfe3-14d3a37715be"
      },
      "execution_count": null,
      "outputs": [
        {
          "output_type": "stream",
          "name": "stdout",
          "text": [
            "id                                         int64\n",
            "name                                      object\n",
            "host_id                                    int64\n",
            "host_name                                 object\n",
            "neighbourhood_group                       object\n",
            "neighbourhood                             object\n",
            "latitude                                 float64\n",
            "longitude                                float64\n",
            "room_type                                 object\n",
            "price                                      int64\n",
            "minimum_nights                             int64\n",
            "number_of_reviews                          int64\n",
            "last_review                       datetime64[ns]\n",
            "reviews_per_month                        float64\n",
            "calculated_host_listings_count             int64\n",
            "availability_365                           int64\n",
            "dtype: object\n"
          ]
        }
      ]
    },
    {
      "cell_type": "markdown",
      "source": [
        "# Task 7: Check for Missing Values in Each Column"
      ],
      "metadata": {
        "id": "VA2Z6Q0oCi8-"
      }
    },
    {
      "cell_type": "code",
      "source": [
        "print(df.isnull().sum())"
      ],
      "metadata": {
        "colab": {
          "base_uri": "https://localhost:8080/"
        },
        "id": "E5g3deGfCrxS",
        "outputId": "22155453-c4c7-4b93-ab91-022abf040dbe"
      },
      "execution_count": null,
      "outputs": [
        {
          "output_type": "stream",
          "name": "stdout",
          "text": [
            "id                                    0\n",
            "name                                 16\n",
            "host_id                               0\n",
            "host_name                            21\n",
            "neighbourhood_group                   0\n",
            "neighbourhood                         0\n",
            "latitude                              0\n",
            "longitude                             0\n",
            "room_type                             0\n",
            "price                                 0\n",
            "minimum_nights                        0\n",
            "number_of_reviews                     0\n",
            "last_review                       10052\n",
            "reviews_per_month                 10052\n",
            "calculated_host_listings_count        0\n",
            "availability_365                      0\n",
            "dtype: int64\n"
          ]
        }
      ]
    },
    {
      "cell_type": "markdown",
      "source": [
        "# Task 8: Find the Top 3 Most Common Neighbourhood Groups"
      ],
      "metadata": {
        "id": "VbW7rZ3bDNLP"
      }
    },
    {
      "cell_type": "code",
      "source": [
        "Most_Common = df[\"neighbourhood_group\"].value_counts().head(3)\n",
        "print(Most_Common)"
      ],
      "metadata": {
        "colab": {
          "base_uri": "https://localhost:8080/"
        },
        "id": "sSZmSLxfDPBv",
        "outputId": "50871c59-0128-4cb0-e753-0b6e4e28ceca"
      },
      "execution_count": null,
      "outputs": [
        {
          "output_type": "stream",
          "name": "stdout",
          "text": [
            "neighbourhood_group\n",
            "Manhattan    21661\n",
            "Brooklyn     20104\n",
            "Queens        5666\n",
            "Name: count, dtype: int64\n"
          ]
        }
      ]
    },
    {
      "cell_type": "markdown",
      "source": [
        "# Task 9: Calculate the Average Price per Neighbourhood Group"
      ],
      "metadata": {
        "id": "Zsy5w4m1ETE0"
      }
    },
    {
      "cell_type": "code",
      "source": [
        "task9 =df.groupby('neighbourhood_group')[\"price\"].mean()\n",
        "print(task9)\n"
      ],
      "metadata": {
        "colab": {
          "base_uri": "https://localhost:8080/"
        },
        "id": "GznXa6QjEUzP",
        "outputId": "25d5bd11-4e22-417b-f76c-09aff979f1a6"
      },
      "execution_count": null,
      "outputs": [
        {
          "output_type": "stream",
          "name": "stdout",
          "text": [
            "neighbourhood_group\n",
            "Bronx             87.496792\n",
            "Brooklyn         124.383207\n",
            "Manhattan        196.875814\n",
            "Queens            99.517649\n",
            "Staten Island    114.812332\n",
            "Name: price, dtype: float64\n"
          ]
        }
      ]
    },
    {
      "cell_type": "markdown",
      "source": [
        "# Task 10: Find the Most Common Room Type"
      ],
      "metadata": {
        "id": "b4nR7ntvFd1L"
      }
    },
    {
      "cell_type": "code",
      "source": [
        "task10 = df[\"room_type\"].value_counts().head(1)\n",
        "print(task10)"
      ],
      "metadata": {
        "colab": {
          "base_uri": "https://localhost:8080/"
        },
        "id": "xfIDgX3FFe8A",
        "outputId": "895057a5-8e98-4622-8f2e-47777762d076"
      },
      "execution_count": null,
      "outputs": [
        {
          "output_type": "stream",
          "name": "stdout",
          "text": [
            "room_type\n",
            "Entire home/apt    25409\n",
            "Name: count, dtype: int64\n"
          ]
        }
      ]
    },
    {
      "cell_type": "markdown",
      "source": [
        "# Task 11: Count Listings with Price Less Than $100"
      ],
      "metadata": {
        "id": "Uet_3moaGJSw"
      }
    },
    {
      "cell_type": "code",
      "source": [
        "cheap_listings = df[df[\"price\"] < 100]\n",
        "\n",
        "print(len(cheap_listings))"
      ],
      "metadata": {
        "colab": {
          "base_uri": "https://localhost:8080/"
        },
        "id": "72fgiyK8GKfE",
        "outputId": "3a623386-54b0-47c8-eaee-fd41389fe30a"
      },
      "execution_count": null,
      "outputs": [
        {
          "output_type": "stream",
          "name": "stdout",
          "text": [
            "21877\n"
          ]
        }
      ]
    },
    {
      "cell_type": "markdown",
      "source": [
        "# Task 12: Find the Most Expensive Listing and Its Location"
      ],
      "metadata": {
        "id": "d2YruPxzG-ea"
      }
    },
    {
      "cell_type": "code",
      "source": [
        "MAX = df[\"price\"].max()\n",
        "filter_expen = df[df[\"price\"] == MAX]\n",
        "print(filter_expen[['name', 'price', 'neighbourhood_group', 'neighbourhood', 'room_type']])"
      ],
      "metadata": {
        "colab": {
          "base_uri": "https://localhost:8080/"
        },
        "collapsed": true,
        "id": "dWc9j_fxHADG",
        "outputId": "9dd8b2a6-31e0-4eaf-d565-7259e5ae55db"
      },
      "execution_count": null,
      "outputs": [
        {
          "output_type": "stream",
          "name": "stdout",
          "text": [
            "                                                  name  price  \\\n",
            "9151               Furnished room in Astoria apartment  10000   \n",
            "17692  Luxury 1 bedroom apt. -stunning Manhattan views  10000   \n",
            "29238                              1-BR Lincoln Center  10000   \n",
            "\n",
            "      neighbourhood_group    neighbourhood        room_type  \n",
            "9151               Queens          Astoria     Private room  \n",
            "17692            Brooklyn       Greenpoint  Entire home/apt  \n",
            "29238           Manhattan  Upper West Side  Entire home/apt  \n"
          ]
        }
      ]
    },
    {
      "cell_type": "markdown",
      "source": [
        "# Task 13: Count the Number of Listings in Each Neighbourhood Group"
      ],
      "metadata": {
        "id": "8p1IcwNqJSkQ"
      }
    },
    {
      "cell_type": "code",
      "source": [
        "print(df.groupby(\"neighbourhood_group\").size())"
      ],
      "metadata": {
        "colab": {
          "base_uri": "https://localhost:8080/"
        },
        "id": "I7fkT-XkJXeq",
        "outputId": "949abeaf-30d5-4610-d032-7c16eb1c550d"
      },
      "execution_count": null,
      "outputs": [
        {
          "output_type": "stream",
          "name": "stdout",
          "text": [
            "neighbourhood_group\n",
            "Bronx             1091\n",
            "Brooklyn         20104\n",
            "Manhattan        21661\n",
            "Queens            5666\n",
            "Staten Island      373\n",
            "dtype: int64\n"
          ]
        }
      ]
    },
    {
      "cell_type": "markdown",
      "source": [
        "# Task 14: Calculate the Average Number of Reviews per Neighbourhood Group"
      ],
      "metadata": {
        "id": "FRRsgwl4KaFh"
      }
    },
    {
      "cell_type": "code",
      "source": [
        "task14 = df.groupby(\"neighbourhood_group\")[\"number_of_reviews\"].mean()\n",
        "print(task14)"
      ],
      "metadata": {
        "colab": {
          "base_uri": "https://localhost:8080/"
        },
        "id": "furqoCFJKbI2",
        "outputId": "0dd0a48b-9ba8-4a0a-96be-8dd907b70fb1"
      },
      "execution_count": null,
      "outputs": [
        {
          "output_type": "stream",
          "name": "stdout",
          "text": [
            "neighbourhood_group\n",
            "Bronx            26.004583\n",
            "Brooklyn         24.202845\n",
            "Manhattan        20.985596\n",
            "Queens           27.700318\n",
            "Staten Island    30.941019\n",
            "Name: number_of_reviews, dtype: float64\n"
          ]
        }
      ]
    },
    {
      "cell_type": "markdown",
      "source": [
        "# Task 15: Calculate the Average Price per Room Type"
      ],
      "metadata": {
        "id": "l9Bj8-wgLTdk"
      }
    },
    {
      "cell_type": "code",
      "source": [
        "task15 = df.groupby(\"room_type\")['price'].mean()\n",
        "print(task15)"
      ],
      "metadata": {
        "colab": {
          "base_uri": "https://localhost:8080/"
        },
        "id": "iiWbk4uHLUke",
        "outputId": "349667e9-da16-4e26-f5fc-1871ca5a4b27"
      },
      "execution_count": null,
      "outputs": [
        {
          "output_type": "stream",
          "name": "stdout",
          "text": [
            "room_type\n",
            "Entire home/apt    211.794246\n",
            "Private room        89.780973\n",
            "Shared room         70.127586\n",
            "Name: price, dtype: float64\n"
          ]
        }
      ]
    },
    {
      "cell_type": "markdown",
      "source": [
        "# Task 16: Count Listings Available at Least One Day a Year"
      ],
      "metadata": {
        "id": "v2jiOsTaMK2o"
      }
    },
    {
      "cell_type": "code",
      "source": [
        "Available_at = df[df[\"availability_365\"] > 0]\n",
        "print(len(Available_at))"
      ],
      "metadata": {
        "colab": {
          "base_uri": "https://localhost:8080/"
        },
        "id": "Myr1mvqWMM6Q",
        "outputId": "5e1152ba-734c-48fe-c461-dd28f085a52c"
      },
      "execution_count": null,
      "outputs": [
        {
          "output_type": "stream",
          "name": "stdout",
          "text": [
            "31362\n"
          ]
        }
      ]
    },
    {
      "cell_type": "markdown",
      "source": [
        "# Task 17: Calculate the Average Availability per Room Type"
      ],
      "metadata": {
        "id": "qPzlx8qCM7_2"
      }
    },
    {
      "cell_type": "code",
      "source": [
        "task17 = df.groupby(\"room_type\")[\"availability_365\"].mean()\n",
        "print(task17)"
      ],
      "metadata": {
        "colab": {
          "base_uri": "https://localhost:8080/"
        },
        "id": "Ddzzy6mNM9Vn",
        "outputId": "a2cf0e21-de0c-479e-f13d-9f4f97da307f"
      },
      "execution_count": null,
      "outputs": [
        {
          "output_type": "stream",
          "name": "stdout",
          "text": [
            "room_type\n",
            "Entire home/apt    111.920304\n",
            "Private room       111.203933\n",
            "Shared room        162.000862\n",
            "Name: availability_365, dtype: float64\n"
          ]
        }
      ]
    },
    {
      "cell_type": "markdown",
      "source": [
        "# Task 18: Calculate the Average Price per Neighbourhood Group and Room Type"
      ],
      "metadata": {
        "id": "6jq-GqqnO1u8"
      }
    },
    {
      "cell_type": "code",
      "source": [
        "task18 = df.groupby([\"neighbourhood_group\", \"room_type\"])[\"price\"].mean()\n",
        "print(task18)"
      ],
      "metadata": {
        "colab": {
          "base_uri": "https://localhost:8080/"
        },
        "id": "1JmSHy5nO3Rw",
        "outputId": "05c1472a-7306-41ce-bb94-e30640132403"
      },
      "execution_count": null,
      "outputs": [
        {
          "output_type": "stream",
          "name": "stdout",
          "text": [
            "neighbourhood_group  room_type      \n",
            "Bronx                Entire home/apt    127.506596\n",
            "                     Private room        66.788344\n",
            "                     Shared room         59.800000\n",
            "Brooklyn             Entire home/apt    178.327545\n",
            "                     Private room        76.500099\n",
            "                     Shared room         50.527845\n",
            "Manhattan            Entire home/apt    249.239109\n",
            "                     Private room       116.776622\n",
            "                     Shared room         88.977083\n",
            "Queens               Entire home/apt    147.050573\n",
            "                     Private room        71.762456\n",
            "                     Shared room         69.020202\n",
            "Staten Island        Entire home/apt    173.846591\n",
            "                     Private room        62.292553\n",
            "                     Shared room         57.444444\n",
            "Name: price, dtype: float64\n"
          ]
        }
      ]
    },
    {
      "cell_type": "markdown",
      "source": [
        "# Task 19: Count Listings with Availability > 0 per Neighbourhood Group"
      ],
      "metadata": {
        "id": "WKMnW2j_QMd4"
      }
    },
    {
      "cell_type": "code",
      "source": [
        "available_df = df[df[\"availability_365\"] > 0]\n",
        "task19 = available_df.groupby('neighbourhood_group').size()\n",
        "print(task19)"
      ],
      "metadata": {
        "colab": {
          "base_uri": "https://localhost:8080/"
        },
        "id": "uwo4BiUVQTzN",
        "outputId": "536427ae-072a-41ff-a590-66cdaff71979"
      },
      "execution_count": null,
      "outputs": [
        {
          "output_type": "stream",
          "name": "stdout",
          "text": [
            "neighbourhood_group\n",
            "Bronx              914\n",
            "Brooklyn         12260\n",
            "Manhattan        13559\n",
            "Queens            4298\n",
            "Staten Island      331\n",
            "dtype: int64\n"
          ]
        }
      ]
    },
    {
      "cell_type": "markdown",
      "source": [
        "# Task 20: Find the Host with the Most Listings"
      ],
      "metadata": {
        "id": "huQCLRQmRqiP"
      }
    },
    {
      "cell_type": "code",
      "source": [
        "host_counts = df.groupby(['host_id', 'host_name']).size().sort_values(ascending=False)\n",
        "print(host_counts.head(1))\n"
      ],
      "metadata": {
        "colab": {
          "base_uri": "https://localhost:8080/"
        },
        "id": "V46jKxcWRuMN",
        "outputId": "07c09061-9e3e-4b4a-ad02-07e6404b29ef"
      },
      "execution_count": null,
      "outputs": [
        {
          "output_type": "stream",
          "name": "stdout",
          "text": [
            "host_id    host_name   \n",
            "219517861  Sonder (NYC)    327\n",
            "Name: count, dtype: int64\n",
            "host_id    host_name   \n",
            "219517861  Sonder (NYC)    327\n",
            "dtype: int64\n"
          ]
        }
      ]
    },
    {
      "cell_type": "markdown",
      "source": [
        "معنى ascending=False\n",
        "ascending معناها: تصاعدي (من الصغير للكبير)\n",
        "\n",
        "False يعني: مش تصاعدي ➜ يعني ترتيب تنازلي (من الكبير للصغير)"
      ],
      "metadata": {
        "id": "njFDGVh4SrSw"
      }
    },
    {
      "cell_type": "markdown",
      "source": [
        "# Task 21: Calculate the Standard Deviation of Prices Using NumPy"
      ],
      "metadata": {
        "id": "lxeEsCZhas52"
      }
    },
    {
      "cell_type": "code",
      "source": [
        "prices = df[\"price\"].values\n",
        "std = np.std(prices)\n",
        "print(std)"
      ],
      "metadata": {
        "colab": {
          "base_uri": "https://localhost:8080/"
        },
        "id": "MXAfHz-Raw4Y",
        "outputId": "3f1aac00-ec20-4acc-a257-664e60528a1f"
      },
      "execution_count": null,
      "outputs": [
        {
          "output_type": "stream",
          "name": "stdout",
          "text": [
            "240.15171391941718\n"
          ]
        }
      ]
    },
    {
      "cell_type": "markdown",
      "source": [
        "# Task 22: Detect Outliers in Price Using NumPy Standard Deviation Rule"
      ],
      "metadata": {
        "id": "JjnDWv_TbubT"
      }
    },
    {
      "cell_type": "code",
      "source": [
        "prices = df['price'].values\n",
        "\n",
        "mean = np.mean(prices)\n",
        "std = np.std(prices)\n",
        "\n",
        "outliers = df[np.abs(prices - mean) > 3 * std]\n",
        "\n",
        "print(outliers.shape[0])\n",
        "print(outliers.head())"
      ],
      "metadata": {
        "colab": {
          "base_uri": "https://localhost:8080/"
        },
        "id": "oONkgw1sbv2I",
        "outputId": "94403f28-5103-495e-a2c4-dcfb145b2ad6"
      },
      "execution_count": null,
      "outputs": [
        {
          "output_type": "stream",
          "name": "stdout",
          "text": [
            "388\n",
            "          id                                              name  host_id  \\\n",
            "496   174966             Luxury 2Bed/2.5Bath Central Park View   836168   \n",
            "762   273190         6 Bedroom Landmark West Village Townhouse   605463   \n",
            "946   363673                  Beautiful 3 bedroom in Manhattan   256239   \n",
            "1105  468613  $ (Phone number hidden by Airbnb) weeks - room f  2325861   \n",
            "1414  634353               Luxury 1Bed with Central Park Views   836168   \n",
            "\n",
            "         host_name neighbourhood_group    neighbourhood  latitude  longitude  \\\n",
            "496          Henry           Manhattan  Upper West Side  40.77350  -73.98697   \n",
            "762   West Village           Manhattan     West Village  40.73301  -74.00268   \n",
            "946         Tracey           Manhattan  Upper West Side  40.80142  -73.96931   \n",
            "1105       Cynthia           Manhattan  Lower East Side  40.72152  -73.99279   \n",
            "1414         Henry           Manhattan  Upper West Side  40.77428  -73.98594   \n",
            "\n",
            "            room_type  price  minimum_nights  number_of_reviews last_review  \\\n",
            "496   Entire home/apt   2000              30                 30  2018-05-05   \n",
            "762   Entire home/apt   1300               5                 28  2018-09-25   \n",
            "946      Private room   3000               7                  0         NaN   \n",
            "1105     Private room   1300               1                  0         NaN   \n",
            "1414  Entire home/apt   1000              30                 44  2015-09-28   \n",
            "\n",
            "      reviews_per_month  calculated_host_listings_count  availability_365  \n",
            "496                0.33                              11                 0  \n",
            "762                0.31                               4               297  \n",
            "946                 NaN                               1               365  \n",
            "1105                NaN                               1                 0  \n",
            "1414               0.53                              11               364  \n"
          ]
        }
      ]
    },
    {
      "cell_type": "markdown",
      "source": [
        "# Task 23: Filter Listings in Manhattan with Price Above the Mean"
      ],
      "metadata": {
        "id": "TCyGpz6peIKu"
      }
    },
    {
      "cell_type": "code",
      "source": [
        "prices = df[\"price\"].values\n",
        "mean_price = np.mean(prices)\n",
        "\n",
        "filtered = df[\n",
        "              (mean_price > prices) &\n",
        "              (df['neighbourhood_group'] == \"Manhattan\")\n",
        "]\n",
        "\n",
        "print(f\"the list in Manhatten: {filtered.shape[0]}\")\n",
        "print(filtered.head())"
      ],
      "metadata": {
        "colab": {
          "base_uri": "https://localhost:8080/"
        },
        "id": "05ZJN0_7eJOm",
        "outputId": "ff7e7efc-6ec6-4ed5-d73b-7784414bb212"
      },
      "execution_count": null,
      "outputs": [
        {
          "output_type": "stream",
          "name": "stdout",
          "text": [
            "the list in Manhatten: 11843\n",
            "     id                                              name  host_id  host_name  \\\n",
            "2  3647               THE VILLAGE OF HARLEM....NEW YORK !     4632  Elisabeth   \n",
            "4  5022  Entire Apt: Spacious Studio/Loft by central park     7192      Laura   \n",
            "7  5178                  Large Furnished Room Near B'way      8967   Shunichi   \n",
            "8  5203                Cozy Clean Guest Room - Family Apt     7490  MaryEllen   \n",
            "9  5238                Cute & Cozy Lower East Side 1 bdrm     7549        Ben   \n",
            "\n",
            "  neighbourhood_group    neighbourhood  latitude  longitude        room_type  \\\n",
            "2           Manhattan           Harlem  40.80902  -73.94190     Private room   \n",
            "4           Manhattan      East Harlem  40.79851  -73.94399  Entire home/apt   \n",
            "7           Manhattan   Hell's Kitchen  40.76489  -73.98493     Private room   \n",
            "8           Manhattan  Upper West Side  40.80178  -73.96723     Private room   \n",
            "9           Manhattan        Chinatown  40.71344  -73.99037  Entire home/apt   \n",
            "\n",
            "   price  minimum_nights  number_of_reviews last_review  reviews_per_month  \\\n",
            "2    150               3                  0         NaN                NaN   \n",
            "4     80              10                  9  2018-11-19               0.10   \n",
            "7     79               2                430  2019-06-24               3.47   \n",
            "8     79               2                118  2017-07-21               0.99   \n",
            "9    150               1                160  2019-06-09               1.33   \n",
            "\n",
            "   calculated_host_listings_count  availability_365  \n",
            "2                               1               365  \n",
            "4                               1                 0  \n",
            "7                               1               220  \n",
            "8                               1                 0  \n",
            "9                               4               188  \n"
          ]
        }
      ]
    },
    {
      "cell_type": "markdown",
      "source": [
        "# Task 24: Compute Mean and Standard Deviation of Availability per Room Type"
      ],
      "metadata": {
        "id": "FJhrsZfRgmk2"
      }
    },
    {
      "cell_type": "code",
      "source": [
        "grouped = df.groupby(\"room_type\")[\"availability_365\"]\n",
        "\n",
        "for room, group in grouped:\n",
        "  mean = np.mean(group.values)\n",
        "  std = np.std(group.values)\n",
        "  print(f\"{room} -> mean: {mean:.2f}, std: {std:.2f}\")"
      ],
      "metadata": {
        "colab": {
          "base_uri": "https://localhost:8080/"
        },
        "id": "fmczHxYVgsTt",
        "outputId": "bc5244ee-9b05-421c-f44d-1b0d9c4c2ab3"
      },
      "execution_count": null,
      "outputs": [
        {
          "output_type": "stream",
          "name": "stdout",
          "text": [
            "Entire home/apt -> mean: 111.92, std: 129.80\n",
            "Private room -> mean: 111.20, std: 132.09\n",
            "Shared room -> mean: 162.00, std: 151.28\n"
          ]
        }
      ]
    },
    {
      "cell_type": "markdown",
      "source": [
        "# Task 25: Find the Most Expensive Neighborhoods in Manhattan Using NumPy"
      ],
      "metadata": {
        "id": "zmjUWoABkBYv"
      }
    },
    {
      "cell_type": "code",
      "source": [
        "Manhattan = df[df[\"neighbourhood_group\"] == \"Manhattan\"]\n",
        "grouped = df.groupby('neighbourhood')['price']\n",
        "\n",
        "for name, prices in grouped:\n",
        "  mean = np.mean(prices.values)\n",
        "  print(f\"{name} -> mean price: {mean:.2f}\")\n",
        "\n"
      ],
      "metadata": {
        "colab": {
          "base_uri": "https://localhost:8080/"
        },
        "id": "uaWuQA9hkJO1",
        "outputId": "4ee654e1-d51b-4c53-cb64-d7be9a69dbaa"
      },
      "execution_count": null,
      "outputs": [
        {
          "output_type": "stream",
          "name": "stdout",
          "text": [
            "Allerton -> mean price: 87.60\n",
            "Arden Heights -> mean price: 67.25\n",
            "Arrochar -> mean price: 115.00\n",
            "Arverne -> mean price: 171.78\n",
            "Astoria -> mean price: 117.19\n",
            "Bath Beach -> mean price: 81.76\n",
            "Battery Park City -> mean price: 367.56\n",
            "Bay Ridge -> mean price: 144.43\n",
            "Bay Terrace -> mean price: 142.00\n",
            "Bay Terrace, Staten Island -> mean price: 102.50\n",
            "Baychester -> mean price: 75.43\n",
            "Bayside -> mean price: 157.95\n",
            "Bayswater -> mean price: 87.47\n",
            "Bedford-Stuyvesant -> mean price: 107.68\n",
            "Belle Harbor -> mean price: 171.50\n",
            "Bellerose -> mean price: 99.36\n",
            "Belmont -> mean price: 77.12\n",
            "Bensonhurst -> mean price: 75.79\n",
            "Bergen Beach -> mean price: 106.70\n",
            "Boerum Hill -> mean price: 176.14\n",
            "Borough Park -> mean price: 63.07\n",
            "Breezy Point -> mean price: 213.33\n",
            "Briarwood -> mean price: 105.88\n",
            "Brighton Beach -> mean price: 131.93\n",
            "Bronxdale -> mean price: 57.11\n",
            "Brooklyn Heights -> mean price: 209.06\n",
            "Brownsville -> mean price: 76.46\n",
            "Bull's Head -> mean price: 47.33\n",
            "Bushwick -> mean price: 84.80\n",
            "Cambria Heights -> mean price: 81.73\n",
            "Canarsie -> mean price: 104.37\n",
            "Carroll Gardens -> mean price: 175.91\n",
            "Castle Hill -> mean price: 63.00\n",
            "Castleton Corners -> mean price: 139.75\n",
            "Chelsea -> mean price: 249.74\n",
            "Chinatown -> mean price: 161.50\n",
            "City Island -> mean price: 173.00\n",
            "Civic Center -> mean price: 191.94\n",
            "Claremont Village -> mean price: 87.46\n",
            "Clason Point -> mean price: 112.76\n",
            "Clifton -> mean price: 84.93\n",
            "Clinton Hill -> mean price: 181.89\n",
            "Co-op City -> mean price: 77.50\n",
            "Cobble Hill -> mean price: 211.93\n",
            "College Point -> mean price: 88.00\n",
            "Columbia St -> mean price: 162.95\n",
            "Concord -> mean price: 58.19\n",
            "Concourse -> mean price: 86.18\n",
            "Concourse Village -> mean price: 73.78\n",
            "Coney Island -> mean price: 123.71\n",
            "Corona -> mean price: 59.17\n",
            "Crown Heights -> mean price: 112.48\n",
            "Cypress Hills -> mean price: 128.90\n",
            "DUMBO -> mean price: 196.31\n",
            "Ditmars Steinway -> mean price: 95.03\n",
            "Dongan Hills -> mean price: 79.43\n",
            "Douglaston -> mean price: 82.75\n",
            "Downtown Brooklyn -> mean price: 150.35\n",
            "Dyker Heights -> mean price: 93.42\n",
            "East Elmhurst -> mean price: 81.18\n",
            "East Flatbush -> mean price: 104.22\n",
            "East Harlem -> mean price: 133.20\n",
            "East Morrisania -> mean price: 85.00\n",
            "East New York -> mean price: 85.43\n",
            "East Village -> mean price: 186.08\n",
            "Eastchester -> mean price: 141.69\n",
            "Edenwald -> mean price: 82.00\n",
            "Edgemere -> mean price: 94.73\n",
            "Elmhurst -> mean price: 80.46\n",
            "Eltingville -> mean price: 141.67\n",
            "Emerson Hill -> mean price: 68.20\n",
            "Far Rockaway -> mean price: 165.86\n",
            "Fieldston -> mean price: 75.08\n",
            "Financial District -> mean price: 225.49\n",
            "Flatbush -> mean price: 92.21\n",
            "Flatiron District -> mean price: 341.93\n",
            "Flatlands -> mean price: 126.43\n",
            "Flushing -> mean price: 93.51\n",
            "Fordham -> mean price: 69.44\n",
            "Forest Hills -> mean price: 121.62\n",
            "Fort Greene -> mean price: 151.37\n",
            "Fort Hamilton -> mean price: 93.82\n",
            "Fort Wadsworth -> mean price: 800.00\n",
            "Fresh Meadows -> mean price: 99.50\n",
            "Glendale -> mean price: 90.80\n",
            "Gowanus -> mean price: 158.80\n",
            "Gramercy -> mean price: 222.75\n",
            "Graniteville -> mean price: 68.67\n",
            "Grant City -> mean price: 57.67\n",
            "Gravesend -> mean price: 79.01\n",
            "Great Kills -> mean price: 100.60\n",
            "Greenpoint -> mean price: 144.82\n",
            "Greenwich Village -> mean price: 263.41\n",
            "Grymes Hill -> mean price: 159.14\n",
            "Harlem -> mean price: 118.97\n",
            "Hell's Kitchen -> mean price: 204.79\n",
            "Highbridge -> mean price: 71.11\n",
            "Hollis -> mean price: 88.64\n",
            "Holliswood -> mean price: 135.75\n",
            "Howard Beach -> mean price: 115.40\n",
            "Howland Hook -> mean price: 100.00\n",
            "Huguenot -> mean price: 118.33\n",
            "Hunts Point -> mean price: 50.50\n",
            "Inwood -> mean price: 88.90\n",
            "Jackson Heights -> mean price: 80.90\n",
            "Jamaica -> mean price: 95.77\n",
            "Jamaica Estates -> mean price: 182.95\n",
            "Jamaica Hills -> mean price: 132.12\n",
            "Kensington -> mean price: 92.89\n",
            "Kew Gardens -> mean price: 88.38\n",
            "Kew Gardens Hills -> mean price: 112.31\n",
            "Kingsbridge -> mean price: 77.93\n",
            "Kips Bay -> mean price: 202.41\n",
            "Laurelton -> mean price: 95.33\n",
            "Lighthouse Hill -> mean price: 157.50\n",
            "Little Italy -> mean price: 222.07\n",
            "Little Neck -> mean price: 75.20\n",
            "Long Island City -> mean price: 127.47\n",
            "Longwood -> mean price: 91.92\n",
            "Lower East Side -> mean price: 186.31\n",
            "Manhattan Beach -> mean price: 103.50\n",
            "Marble Hill -> mean price: 89.17\n",
            "Mariners Harbor -> mean price: 94.62\n",
            "Maspeth -> mean price: 83.65\n",
            "Melrose -> mean price: 83.30\n",
            "Middle Village -> mean price: 109.58\n",
            "Midland Beach -> mean price: 91.83\n",
            "Midtown -> mean price: 282.72\n",
            "Midwood -> mean price: 80.34\n",
            "Mill Basin -> mean price: 179.75\n",
            "Morningside Heights -> mean price: 114.78\n",
            "Morris Heights -> mean price: 76.94\n",
            "Morris Park -> mean price: 69.33\n",
            "Morrisania -> mean price: 83.44\n",
            "Mott Haven -> mean price: 88.92\n",
            "Mount Eden -> mean price: 58.50\n",
            "Mount Hope -> mean price: 77.50\n",
            "Murray Hill -> mean price: 220.96\n",
            "Navy Yard -> mean price: 151.64\n",
            "Neponsit -> mean price: 274.67\n",
            "New Brighton -> mean price: 101.80\n",
            "New Dorp -> mean price: 57.00\n",
            "New Dorp Beach -> mean price: 57.40\n",
            "New Springville -> mean price: 76.00\n",
            "NoHo -> mean price: 295.72\n",
            "Nolita -> mean price: 230.14\n",
            "North Riverdale -> mean price: 79.90\n",
            "Norwood -> mean price: 75.55\n",
            "Oakwood -> mean price: 81.20\n",
            "Olinville -> mean price: 64.00\n",
            "Ozone Park -> mean price: 85.27\n",
            "Park Slope -> mean price: 176.31\n",
            "Parkchester -> mean price: 69.08\n",
            "Pelham Bay -> mean price: 105.00\n",
            "Pelham Gardens -> mean price: 93.61\n",
            "Port Morris -> mean price: 79.89\n",
            "Port Richmond -> mean price: 90.11\n",
            "Prince's Bay -> mean price: 409.50\n",
            "Prospect Heights -> mean price: 173.37\n",
            "Prospect-Lefferts Gardens -> mean price: 110.40\n",
            "Queens Village -> mean price: 83.93\n",
            "Randall Manor -> mean price: 336.00\n",
            "Red Hook -> mean price: 143.46\n",
            "Rego Park -> mean price: 83.88\n",
            "Richmond Hill -> mean price: 87.12\n",
            "Richmondtown -> mean price: 78.00\n",
            "Ridgewood -> mean price: 77.18\n",
            "Riverdale -> mean price: 442.09\n",
            "Rockaway Beach -> mean price: 132.18\n",
            "Roosevelt Island -> mean price: 113.26\n",
            "Rosebank -> mean price: 111.86\n",
            "Rosedale -> mean price: 76.69\n",
            "Rossville -> mean price: 75.00\n",
            "Schuylerville -> mean price: 69.23\n",
            "Sea Gate -> mean price: 487.86\n",
            "Sheepshead Bay -> mean price: 105.77\n",
            "Shore Acres -> mean price: 152.71\n",
            "Silver Lake -> mean price: 70.00\n",
            "SoHo -> mean price: 287.10\n",
            "Soundview -> mean price: 53.47\n",
            "South Beach -> mean price: 89.25\n",
            "South Ozone Park -> mean price: 82.40\n",
            "South Slope -> mean price: 146.73\n",
            "Springfield Gardens -> mean price: 94.24\n",
            "Spuyten Duyvil -> mean price: 154.75\n",
            "St. Albans -> mean price: 100.83\n",
            "St. George -> mean price: 118.15\n",
            "Stapleton -> mean price: 98.96\n",
            "Stuyvesant Town -> mean price: 169.11\n",
            "Sunnyside -> mean price: 84.87\n",
            "Sunset Park -> mean price: 113.04\n",
            "Theater District -> mean price: 248.01\n",
            "Throgs Neck -> mean price: 91.04\n",
            "Todt Hill -> mean price: 169.00\n",
            "Tompkinsville -> mean price: 76.19\n",
            "Tottenville -> mean price: 144.86\n",
            "Tremont -> mean price: 51.55\n",
            "Tribeca -> mean price: 490.64\n",
            "Two Bridges -> mean price: 127.07\n",
            "Unionport -> mean price: 137.14\n",
            "University Heights -> mean price: 69.57\n",
            "Upper East Side -> mean price: 188.95\n",
            "Upper West Side -> mean price: 210.92\n",
            "Van Nest -> mean price: 113.82\n",
            "Vinegar Hill -> mean price: 187.18\n",
            "Wakefield -> mean price: 85.58\n",
            "Washington Heights -> mean price: 89.61\n",
            "West Brighton -> mean price: 80.56\n",
            "West Farms -> mean price: 122.00\n",
            "West Village -> mean price: 267.68\n",
            "Westchester Square -> mean price: 122.20\n",
            "Westerleigh -> mean price: 71.50\n",
            "Whitestone -> mean price: 107.55\n",
            "Williamsbridge -> mean price: 96.75\n",
            "Williamsburg -> mean price: 143.80\n",
            "Willowbrook -> mean price: 249.00\n",
            "Windsor Terrace -> mean price: 138.99\n",
            "Woodhaven -> mean price: 67.17\n",
            "Woodlawn -> mean price: 60.09\n",
            "Woodrow -> mean price: 700.00\n",
            "Woodside -> mean price: 85.10\n",
            "neighbourhood\n",
            "Fort Wadsworth       800.000000\n",
            "Woodrow              700.000000\n",
            "Tribeca              490.638418\n",
            "Sea Gate             487.857143\n",
            "Riverdale            442.090909\n",
            "Prince's Bay         409.500000\n",
            "Battery Park City    367.557143\n",
            "Flatiron District    341.925000\n",
            "Randall Manor        336.000000\n",
            "NoHo                 295.717949\n",
            "Name: price, dtype: float64\n"
          ]
        }
      ]
    },
    {
      "cell_type": "code",
      "source": [
        "mean_prices = grouped.apply(lambda x: np.mean(x.values))\n",
        "sorted_prices = mean_prices.sort_values(ascending=False)\n",
        "print(sorted_prices.head(10))"
      ],
      "metadata": {
        "colab": {
          "base_uri": "https://localhost:8080/"
        },
        "id": "4Zc8Uu8B8Sy_",
        "outputId": "4d1bb094-fa62-463d-9928-afcf8d0b8adb"
      },
      "execution_count": null,
      "outputs": [
        {
          "output_type": "stream",
          "name": "stdout",
          "text": [
            "neighbourhood\n",
            "Fort Wadsworth       800.000000\n",
            "Woodrow              700.000000\n",
            "Tribeca              490.638418\n",
            "Sea Gate             487.857143\n",
            "Riverdale            442.090909\n",
            "Prince's Bay         409.500000\n",
            "Battery Park City    367.557143\n",
            "Flatiron District    341.925000\n",
            "Randall Manor        336.000000\n",
            "NoHo                 295.717949\n",
            "Name: price, dtype: float64\n"
          ]
        }
      ]
    },
    {
      "cell_type": "markdown",
      "source": [
        "# Task 26: Compare Average Price per Room Type in Manhattan Using NumPy"
      ],
      "metadata": {
        "id": "FHeBnNG587fA"
      }
    },
    {
      "cell_type": "code",
      "source": [
        "Manhattan = df[df[\"neighbourhood_group\"] == \"Manhattan\"]\n",
        "\n",
        "grouped = Manhattan.groupby(\"room_type\")[\"price\"]\n",
        "\n",
        "for room,prices in grouped:\n",
        "  mean = np.mean(prices.values)\n",
        "  print(f\"{room} -> mean: {mean:.2f}\")"
      ],
      "metadata": {
        "colab": {
          "base_uri": "https://localhost:8080/"
        },
        "id": "NFPCrzF79F6o",
        "outputId": "17dcc6f5-f657-4bf2-92dd-26df2759ce6f"
      },
      "execution_count": null,
      "outputs": [
        {
          "output_type": "stream",
          "name": "stdout",
          "text": [
            "Entire home/apt -> mean: 249.24\n",
            "Private room -> mean: 116.78\n",
            "Shared room -> mean: 88.98\n"
          ]
        }
      ]
    },
    {
      "cell_type": "markdown",
      "source": [
        "# Task 27: Analyze the Relationship Between Price and Availability Using NumPy"
      ],
      "metadata": {
        "id": "6F5Qt8lP-_qh"
      }
    },
    {
      "cell_type": "code",
      "source": [
        "prices = df[\"price\"].values\n",
        "availability = df['availability_365'].values\n",
        "\n",
        "print(\"Price → Mean:\", np.mean(prices), \"Std:\", np.std(prices))\n",
        "print(\"Availability → Mean:\", np.mean(availability), \"Std:\", np.std(availability))\n",
        "\n",
        "correlation = np.corrcoef(prices, availability)[0, 1]\n",
        "print(\"Correlation between price and availability:\", correlation)"
      ],
      "metadata": {
        "id": "0rz_3Urg--4e"
      },
      "execution_count": null,
      "outputs": []
    },
    {
      "cell_type": "markdown",
      "source": [
        "# Task 28: Compare Average Price for Fully Available vs. Low Availability Listings"
      ],
      "metadata": {
        "id": "oYm2-Mpf_rLy"
      }
    },
    {
      "cell_type": "code",
      "source": [
        "full_available = df[df['availability_365'] == 365]\n",
        "low_available = df[df['availability_365'] < 30]\n",
        "\n",
        "mean_full = np.mean(full_available['price'].values)\n",
        "mean_low = np.mean(low_available['price'].values)\n",
        "\n",
        "print(mean_full)\n",
        "print(mean_low)"
      ],
      "metadata": {
        "colab": {
          "base_uri": "https://localhost:8080/"
        },
        "id": "48gLeDC7_sah",
        "outputId": "aa693e91-9e3d-4804-b82d-8170d8aa3c8c"
      },
      "execution_count": null,
      "outputs": [
        {
          "output_type": "stream",
          "name": "stdout",
          "text": [
            "250.76988416988416\n",
            "136.6489272655183\n"
          ]
        }
      ]
    },
    {
      "cell_type": "markdown",
      "source": [
        "# Task 29: Analyze Average Price by Room Type and Neighbourhood Group Using NumPy"
      ],
      "metadata": {
        "id": "E5v4hZg5AY4P"
      }
    },
    {
      "cell_type": "code",
      "source": [
        "grouped = df.groupby(['neighbourhood_group', 'room_type'])[\"price\"]\n",
        "\n",
        "for (area, room), prices in grouped:\n",
        "  mean = np.mean(prices.values)\n",
        "  print(f\"{area} | {room} → Mean Price: {mean:.2f}\")"
      ],
      "metadata": {
        "colab": {
          "base_uri": "https://localhost:8080/"
        },
        "id": "Pyvg-vGyAZ5j",
        "outputId": "5e9773ba-8502-49d3-99a1-f48811e33e50"
      },
      "execution_count": null,
      "outputs": [
        {
          "output_type": "stream",
          "name": "stdout",
          "text": [
            "Bronx | Entire home/apt → Mean Price: 127.51\n",
            "Bronx | Private room → Mean Price: 66.79\n",
            "Bronx | Shared room → Mean Price: 59.80\n",
            "Brooklyn | Entire home/apt → Mean Price: 178.33\n",
            "Brooklyn | Private room → Mean Price: 76.50\n",
            "Brooklyn | Shared room → Mean Price: 50.53\n",
            "Manhattan | Entire home/apt → Mean Price: 249.24\n",
            "Manhattan | Private room → Mean Price: 116.78\n",
            "Manhattan | Shared room → Mean Price: 88.98\n",
            "Queens | Entire home/apt → Mean Price: 147.05\n",
            "Queens | Private room → Mean Price: 71.76\n",
            "Queens | Shared room → Mean Price: 69.02\n",
            "Staten Island | Entire home/apt → Mean Price: 173.85\n",
            "Staten Island | Private room → Mean Price: 62.29\n",
            "Staten Island | Shared room → Mean Price: 57.44\n"
          ]
        }
      ]
    },
    {
      "cell_type": "markdown",
      "source": [
        "# Task 30: Summarize Key Insights and Export Final Data as CSV"
      ],
      "metadata": {
        "id": "4uF1jYmuCS4o"
      }
    },
    {
      "cell_type": "code",
      "source": [
        "print(\"Top Insights:\")\n",
        "print(\"- Entire home/apt in Manhattan has the highest average price.\")\n",
        "print(\"- Listings with full-year availability tend to be cheaper on average.\")\n",
        "print(\"- Private rooms in Bronx are the cheapest overall.\")\n",
        "print(\"- No strong correlation found between price and availability.\")\n",
        "# أضف أي نقاط حسيتها مهمة من تحليلك\n"
      ],
      "metadata": {
        "id": "n6w6anlgCe5o"
      },
      "execution_count": null,
      "outputs": []
    },
    {
      "cell_type": "markdown",
      "source": [
        "# Task 31: Identify Outliers in a Numerical Column"
      ],
      "metadata": {
        "id": "sIGoKYwB5kZf"
      }
    },
    {
      "cell_type": "code",
      "source": [
        "Q1 = df[\"price\"].quantile(0.25)\n",
        "Q3 = df[\"price\"].quantile(0.75)\n",
        "\n",
        "IQR = Q1 - Q3\n",
        "\n",
        "outliers_filter = (df[\"price\"] < Q1 - 1.5 * IQR) | (df['price'] > Q3 + 1.5 * IQR)\n",
        "outliers = df[outliers_filter]\n",
        "\n",
        "print(\"Number of outliers:\", outliers.shape[0])\n",
        "\n"
      ],
      "metadata": {
        "id": "O7EGhXxl5nrN",
        "outputId": "0d14ad89-4d81-4e20-f0c1-f0cea1c135d8",
        "colab": {
          "base_uri": "https://localhost:8080/"
        }
      },
      "execution_count": 13,
      "outputs": [
        {
          "output_type": "stream",
          "name": "stdout",
          "text": [
            "Number of outliers: 48895\n"
          ]
        }
      ]
    },
    {
      "cell_type": "markdown",
      "source": [
        " ما هو quantile()؟\n",
        "quantile() هي دالة في Pandas تُستخدم لحساب القيمة عند نسبة مئوية معيّنة من البيانات"
      ],
      "metadata": {
        "id": "VSikFWuc5x5B"
      }
    },
    {
      "cell_type": "markdown",
      "source": [
        "# Task 32: Visualize the Distribution of the 'price' Column Using a Histogram"
      ],
      "metadata": {
        "id": "4QgtzJdo8CHm"
      }
    },
    {
      "cell_type": "code",
      "source": [
        "import matplotlib.pyplot as plt\n",
        "\n",
        "plt.figure(figsize=(8,5))\n",
        "\n",
        "plt.hist(df[\"price\"], bins=30)\n",
        "\n",
        "plt.title('Distribution of Price')\n",
        "plt.xlabel('Price')\n",
        "plt.ylabel('Frequency')\n",
        "\n",
        "plt.show()"
      ],
      "metadata": {
        "id": "Xrjnq8MQ8Iyd",
        "outputId": "48d6f000-e46b-4a11-a4f0-abf301000880",
        "colab": {
          "base_uri": "https://localhost:8080/",
          "height": 487
        }
      },
      "execution_count": 20,
      "outputs": [
        {
          "output_type": "display_data",
          "data": {
            "text/plain": [
              "<Figure size 800x500 with 1 Axes>"
            ],
            "image/png": "[encoded data removed]"
          },
          "metadata": {}
        }
      ]
    },
    {
      "cell_type": "markdown",
      "source": [
        "# Task 33: Visualize the Relationship Between Price and Quantity Using a Scatter Plot\n"
      ],
      "metadata": {
        "id": "DkYa9Mw39K-x"
      }
    },
    {
      "cell_type": "code",
      "source": [
        "import matplotlib.pyplot as plt\n",
        "\n",
        "plt.figure(figsize=(8, 5))\n",
        "plt.scatter(df['availability_365'], df['price'], color='green', alpha=0.6)\n",
        "\n",
        "plt.title('Price vs Quantity')\n",
        "plt.xlabel('Quantity')\n",
        "plt.ylabel('Price')"
      ],
      "metadata": {
        "id": "LE5QpTiS9Mj8",
        "outputId": "b586f098-6f63-4e48-850e-c322b3436347",
        "colab": {
          "base_uri": "https://localhost:8080/",
          "height": 505
        }
      },
      "execution_count": 24,
      "outputs": [
        {
          "output_type": "execute_result",
          "data": {
            "text/plain": [
              "Text(0, 0.5, 'Price')"
            ]
          },
          "metadata": {},
          "execution_count": 24
        },
        {
          "output_type": "display_data",
          "data": {
            "text/plain": [
              "<Figure size 800x500 with 1 Axes>"
            ],
            "image/png": "[encoded data removed]"
          },
          "metadata": {}
        }
      ]
    },
    {
      "cell_type": "markdown",
      "source": [
        "# Task 34: Visualize the Relationship Between Price and Minimum Nights Using a Scatter Plot"
      ],
      "metadata": {
        "id": "EZi6rtZEDaC0"
      }
    },
    {
      "cell_type": "code",
      "source": [
        "import matplotlib.pyplot as plt\n",
        "\n",
        "plt.figure(figsize=(8, 5))\n",
        "plt.scatter(df['minimum_nights'], df['price'], color='purple', alpha=0.5)\n",
        "\n",
        "plt.title('Price vs Minimum Nights')\n",
        "plt.xlabel('Minimum Nights')\n",
        "plt.ylabel('Price')\n",
        "\n",
        "plt.xlim(0, 30)\n",
        "plt.ylim(0, 500)\n",
        "plt.show()\n"
      ],
      "metadata": {
        "id": "8fUHEX_fDiG1",
        "outputId": "5ea5cec0-a7de-4847-802f-34b207603122",
        "colab": {
          "base_uri": "https://localhost:8080/",
          "height": 487
        }
      },
      "execution_count": 25,
      "outputs": [
        {
          "output_type": "display_data",
          "data": {
            "text/plain": [
              "<Figure size 800x500 with 1 Axes>"
            ],
            "image/png": "[encoded data removed]"
          },
          "metadata": {}
        }
      ]
    }
  ]
}